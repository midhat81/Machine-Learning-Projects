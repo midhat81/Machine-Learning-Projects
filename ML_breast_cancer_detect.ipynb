{
  "nbformat": 4,
  "nbformat_minor": 0,
  "metadata": {
    "colab": {
      "provenance": [],
      "authorship_tag": "ABX9TyO8IkWbrT62SaKNy2hyQoU+",
      "include_colab_link": true
    },
    "kernelspec": {
      "name": "python3",
      "display_name": "Python 3"
    },
    "language_info": {
      "name": "python"
    }
  },
  "cells": [
    {
      "cell_type": "markdown",
      "metadata": {
        "id": "view-in-github",
        "colab_type": "text"
      },
      "source": [
        "<a href=\"https://colab.research.google.com/github/maruf9911/Machine-Learning-projects/blob/main/ML_breast_cancer_detect.ipynb\" target=\"_parent\"><img src=\"https://colab.research.google.com/assets/colab-badge.svg\" alt=\"Open In Colab\"/></a>"
      ]
    },
    {
      "cell_type": "markdown",
      "source": [
        "**Breast cancer detection**\n",
        "\n",
        "Description: Breast cancer is the most common cancer among women in the world. It accounts for 25% of all cancer cases. Breast cancer begins when cells in the breast grow out of control. These cells are usually detected by analyzing tumors that can be seen on X-rays.\n",
        "\n"
      ],
      "metadata": {
        "id": "TgRZv3ZSFc2Y"
      }
    },
    {
      "cell_type": "code",
      "execution_count": 1,
      "metadata": {
        "id": "40_zJQN3EbRi"
      },
      "outputs": [],
      "source": [
        "\n",
        "import pandas as pd\n",
        "import numpy as np"
      ]
    },
    {
      "cell_type": "code",
      "source": [
        "url=\"https://raw.githubusercontent.com/anvarnarz/praktikum_datasets/main/breast-cancer.csv\"\n",
        "df = pd.read_csv(url)\n",
        "df.sample(5)"
      ],
      "metadata": {
        "colab": {
          "base_uri": "https://localhost:8080/",
          "height": 317
        },
        "id": "pCvfoiEyFORK",
        "outputId": "e2398f32-bd98-4422-862a-fb762aa4d849"
      },
      "execution_count": 2,
      "outputs": [
        {
          "output_type": "execute_result",
          "data": {
            "text/plain": [
              "         id diagnosis  radius_mean  texture_mean  perimeter_mean  area_mean  \\\n",
              "329  895633         M       16.260         21.88          107.50      826.8   \n",
              "180  873592         M       27.220         21.87          182.10     2250.0   \n",
              "184  873885         M       15.280         22.41           98.92      710.6   \n",
              "336  897604         B       12.990         14.23           84.08      514.3   \n",
              "318  894329         B        9.042         18.90           60.07      244.5   \n",
              "\n",
              "     smoothness_mean  compactness_mean  concavity_mean  concave points_mean  \\\n",
              "329          0.11650           0.12830         0.17990              0.07981   \n",
              "180          0.10940           0.19140         0.28710              0.18780   \n",
              "184          0.09057           0.10520         0.05375              0.03263   \n",
              "336          0.09462           0.09965         0.03738              0.02098   \n",
              "318          0.09968           0.19720         0.19750              0.04908   \n",
              "\n",
              "     ...  radius_worst  texture_worst  perimeter_worst  area_worst  \\\n",
              "329  ...         17.73          25.21           113.70       975.2   \n",
              "180  ...         33.12          32.85           220.80      3216.0   \n",
              "184  ...         17.80          28.03           113.80       973.1   \n",
              "336  ...         13.72          16.91            87.38       576.0   \n",
              "318  ...         10.06          23.40            68.62       297.1   \n",
              "\n",
              "     smoothness_worst  compactness_worst  concavity_worst  \\\n",
              "329            0.1426             0.2116           0.3344   \n",
              "180            0.1472             0.4034           0.5340   \n",
              "184            0.1301             0.3299           0.3630   \n",
              "336            0.1142             0.1975           0.1450   \n",
              "318            0.1221             0.3748           0.4609   \n",
              "\n",
              "     concave points_worst  symmetry_worst  fractal_dimension_worst  \n",
              "329                0.1047          0.2736                  0.07953  \n",
              "180                0.2688          0.2856                  0.08082  \n",
              "184                0.1226          0.3175                  0.09772  \n",
              "336                0.0585          0.2432                  0.10090  \n",
              "318                0.1145          0.3135                  0.10550  \n",
              "\n",
              "[5 rows x 32 columns]"
            ],
            "text/html": [
              "\n",
              "  <div id=\"df-8c831834-f238-4b67-a03b-27dc2106cbe6\">\n",
              "    <div class=\"colab-df-container\">\n",
              "      <div>\n",
              "<style scoped>\n",
              "    .dataframe tbody tr th:only-of-type {\n",
              "        vertical-align: middle;\n",
              "    }\n",
              "\n",
              "    .dataframe tbody tr th {\n",
              "        vertical-align: top;\n",
              "    }\n",
              "\n",
              "    .dataframe thead th {\n",
              "        text-align: right;\n",
              "    }\n",
              "</style>\n",
              "<table border=\"1\" class=\"dataframe\">\n",
              "  <thead>\n",
              "    <tr style=\"text-align: right;\">\n",
              "      <th></th>\n",
              "      <th>id</th>\n",
              "      <th>diagnosis</th>\n",
              "      <th>radius_mean</th>\n",
              "      <th>texture_mean</th>\n",
              "      <th>perimeter_mean</th>\n",
              "      <th>area_mean</th>\n",
              "      <th>smoothness_mean</th>\n",
              "      <th>compactness_mean</th>\n",
              "      <th>concavity_mean</th>\n",
              "      <th>concave points_mean</th>\n",
              "      <th>...</th>\n",
              "      <th>radius_worst</th>\n",
              "      <th>texture_worst</th>\n",
              "      <th>perimeter_worst</th>\n",
              "      <th>area_worst</th>\n",
              "      <th>smoothness_worst</th>\n",
              "      <th>compactness_worst</th>\n",
              "      <th>concavity_worst</th>\n",
              "      <th>concave points_worst</th>\n",
              "      <th>symmetry_worst</th>\n",
              "      <th>fractal_dimension_worst</th>\n",
              "    </tr>\n",
              "  </thead>\n",
              "  <tbody>\n",
              "    <tr>\n",
              "      <th>329</th>\n",
              "      <td>895633</td>\n",
              "      <td>M</td>\n",
              "      <td>16.260</td>\n",
              "      <td>21.88</td>\n",
              "      <td>107.50</td>\n",
              "      <td>826.8</td>\n",
              "      <td>0.11650</td>\n",
              "      <td>0.12830</td>\n",
              "      <td>0.17990</td>\n",
              "      <td>0.07981</td>\n",
              "      <td>...</td>\n",
              "      <td>17.73</td>\n",
              "      <td>25.21</td>\n",
              "      <td>113.70</td>\n",
              "      <td>975.2</td>\n",
              "      <td>0.1426</td>\n",
              "      <td>0.2116</td>\n",
              "      <td>0.3344</td>\n",
              "      <td>0.1047</td>\n",
              "      <td>0.2736</td>\n",
              "      <td>0.07953</td>\n",
              "    </tr>\n",
              "    <tr>\n",
              "      <th>180</th>\n",
              "      <td>873592</td>\n",
              "      <td>M</td>\n",
              "      <td>27.220</td>\n",
              "      <td>21.87</td>\n",
              "      <td>182.10</td>\n",
              "      <td>2250.0</td>\n",
              "      <td>0.10940</td>\n",
              "      <td>0.19140</td>\n",
              "      <td>0.28710</td>\n",
              "      <td>0.18780</td>\n",
              "      <td>...</td>\n",
              "      <td>33.12</td>\n",
              "      <td>32.85</td>\n",
              "      <td>220.80</td>\n",
              "      <td>3216.0</td>\n",
              "      <td>0.1472</td>\n",
              "      <td>0.4034</td>\n",
              "      <td>0.5340</td>\n",
              "      <td>0.2688</td>\n",
              "      <td>0.2856</td>\n",
              "      <td>0.08082</td>\n",
              "    </tr>\n",
              "    <tr>\n",
              "      <th>184</th>\n",
              "      <td>873885</td>\n",
              "      <td>M</td>\n",
              "      <td>15.280</td>\n",
              "      <td>22.41</td>\n",
              "      <td>98.92</td>\n",
              "      <td>710.6</td>\n",
              "      <td>0.09057</td>\n",
              "      <td>0.10520</td>\n",
              "      <td>0.05375</td>\n",
              "      <td>0.03263</td>\n",
              "      <td>...</td>\n",
              "      <td>17.80</td>\n",
              "      <td>28.03</td>\n",
              "      <td>113.80</td>\n",
              "      <td>973.1</td>\n",
              "      <td>0.1301</td>\n",
              "      <td>0.3299</td>\n",
              "      <td>0.3630</td>\n",
              "      <td>0.1226</td>\n",
              "      <td>0.3175</td>\n",
              "      <td>0.09772</td>\n",
              "    </tr>\n",
              "    <tr>\n",
              "      <th>336</th>\n",
              "      <td>897604</td>\n",
              "      <td>B</td>\n",
              "      <td>12.990</td>\n",
              "      <td>14.23</td>\n",
              "      <td>84.08</td>\n",
              "      <td>514.3</td>\n",
              "      <td>0.09462</td>\n",
              "      <td>0.09965</td>\n",
              "      <td>0.03738</td>\n",
              "      <td>0.02098</td>\n",
              "      <td>...</td>\n",
              "      <td>13.72</td>\n",
              "      <td>16.91</td>\n",
              "      <td>87.38</td>\n",
              "      <td>576.0</td>\n",
              "      <td>0.1142</td>\n",
              "      <td>0.1975</td>\n",
              "      <td>0.1450</td>\n",
              "      <td>0.0585</td>\n",
              "      <td>0.2432</td>\n",
              "      <td>0.10090</td>\n",
              "    </tr>\n",
              "    <tr>\n",
              "      <th>318</th>\n",
              "      <td>894329</td>\n",
              "      <td>B</td>\n",
              "      <td>9.042</td>\n",
              "      <td>18.90</td>\n",
              "      <td>60.07</td>\n",
              "      <td>244.5</td>\n",
              "      <td>0.09968</td>\n",
              "      <td>0.19720</td>\n",
              "      <td>0.19750</td>\n",
              "      <td>0.04908</td>\n",
              "      <td>...</td>\n",
              "      <td>10.06</td>\n",
              "      <td>23.40</td>\n",
              "      <td>68.62</td>\n",
              "      <td>297.1</td>\n",
              "      <td>0.1221</td>\n",
              "      <td>0.3748</td>\n",
              "      <td>0.4609</td>\n",
              "      <td>0.1145</td>\n",
              "      <td>0.3135</td>\n",
              "      <td>0.10550</td>\n",
              "    </tr>\n",
              "  </tbody>\n",
              "</table>\n",
              "<p>5 rows × 32 columns</p>\n",
              "</div>\n",
              "      <button class=\"colab-df-convert\" onclick=\"convertToInteractive('df-8c831834-f238-4b67-a03b-27dc2106cbe6')\"\n",
              "              title=\"Convert this dataframe to an interactive table.\"\n",
              "              style=\"display:none;\">\n",
              "        \n",
              "  <svg xmlns=\"http://www.w3.org/2000/svg\" height=\"24px\"viewBox=\"0 0 24 24\"\n",
              "       width=\"24px\">\n",
              "    <path d=\"M0 0h24v24H0V0z\" fill=\"none\"/>\n",
              "    <path d=\"M18.56 5.44l.94 2.06.94-2.06 2.06-.94-2.06-.94-.94-2.06-.94 2.06-2.06.94zm-11 1L8.5 8.5l.94-2.06 2.06-.94-2.06-.94L8.5 2.5l-.94 2.06-2.06.94zm10 10l.94 2.06.94-2.06 2.06-.94-2.06-.94-.94-2.06-.94 2.06-2.06.94z\"/><path d=\"M17.41 7.96l-1.37-1.37c-.4-.4-.92-.59-1.43-.59-.52 0-1.04.2-1.43.59L10.3 9.45l-7.72 7.72c-.78.78-.78 2.05 0 2.83L4 21.41c.39.39.9.59 1.41.59.51 0 1.02-.2 1.41-.59l7.78-7.78 2.81-2.81c.8-.78.8-2.07 0-2.86zM5.41 20L4 18.59l7.72-7.72 1.47 1.35L5.41 20z\"/>\n",
              "  </svg>\n",
              "      </button>\n",
              "      \n",
              "  <style>\n",
              "    .colab-df-container {\n",
              "      display:flex;\n",
              "      flex-wrap:wrap;\n",
              "      gap: 12px;\n",
              "    }\n",
              "\n",
              "    .colab-df-convert {\n",
              "      background-color: #E8F0FE;\n",
              "      border: none;\n",
              "      border-radius: 50%;\n",
              "      cursor: pointer;\n",
              "      display: none;\n",
              "      fill: #1967D2;\n",
              "      height: 32px;\n",
              "      padding: 0 0 0 0;\n",
              "      width: 32px;\n",
              "    }\n",
              "\n",
              "    .colab-df-convert:hover {\n",
              "      background-color: #E2EBFA;\n",
              "      box-shadow: 0px 1px 2px rgba(60, 64, 67, 0.3), 0px 1px 3px 1px rgba(60, 64, 67, 0.15);\n",
              "      fill: #174EA6;\n",
              "    }\n",
              "\n",
              "    [theme=dark] .colab-df-convert {\n",
              "      background-color: #3B4455;\n",
              "      fill: #D2E3FC;\n",
              "    }\n",
              "\n",
              "    [theme=dark] .colab-df-convert:hover {\n",
              "      background-color: #434B5C;\n",
              "      box-shadow: 0px 1px 3px 1px rgba(0, 0, 0, 0.15);\n",
              "      filter: drop-shadow(0px 1px 2px rgba(0, 0, 0, 0.3));\n",
              "      fill: #FFFFFF;\n",
              "    }\n",
              "  </style>\n",
              "\n",
              "      <script>\n",
              "        const buttonEl =\n",
              "          document.querySelector('#df-8c831834-f238-4b67-a03b-27dc2106cbe6 button.colab-df-convert');\n",
              "        buttonEl.style.display =\n",
              "          google.colab.kernel.accessAllowed ? 'block' : 'none';\n",
              "\n",
              "        async function convertToInteractive(key) {\n",
              "          const element = document.querySelector('#df-8c831834-f238-4b67-a03b-27dc2106cbe6');\n",
              "          const dataTable =\n",
              "            await google.colab.kernel.invokeFunction('convertToInteractive',\n",
              "                                                     [key], {});\n",
              "          if (!dataTable) return;\n",
              "\n",
              "          const docLinkHtml = 'Like what you see? Visit the ' +\n",
              "            '<a target=\"_blank\" href=https://colab.research.google.com/notebooks/data_table.ipynb>data table notebook</a>'\n",
              "            + ' to learn more about interactive tables.';\n",
              "          element.innerHTML = '';\n",
              "          dataTable['output_type'] = 'display_data';\n",
              "          await google.colab.output.renderOutput(dataTable, element);\n",
              "          const docLink = document.createElement('div');\n",
              "          docLink.innerHTML = docLinkHtml;\n",
              "          element.appendChild(docLink);\n",
              "        }\n",
              "      </script>\n",
              "    </div>\n",
              "  </div>\n",
              "  "
            ]
          },
          "metadata": {},
          "execution_count": 2
        }
      ]
    },
    {
      "cell_type": "code",
      "source": [
        "df['diagnosis'].value_counts()"
      ],
      "metadata": {
        "colab": {
          "base_uri": "https://localhost:8080/"
        },
        "id": "V8Wpc342FTgf",
        "outputId": "2e5c9d70-bc46-4a4a-833e-9a13c3f50d92"
      },
      "execution_count": 3,
      "outputs": [
        {
          "output_type": "execute_result",
          "data": {
            "text/plain": [
              "B    357\n",
              "M    212\n",
              "Name: diagnosis, dtype: int64"
            ]
          },
          "metadata": {},
          "execution_count": 3
        }
      ]
    },
    {
      "cell_type": "markdown",
      "source": [
        "**The dataset includes breast tumor information. and the diagnosis column means that the tumor is cancerous (M - malignant) or non-cancerous (B - benign).**\n",
        "\n",
        "Let's change these values to 0 and 1. M->1, B->0"
      ],
      "metadata": {
        "id": "hn73f5fbFwRf"
      }
    },
    {
      "cell_type": "markdown",
      "source": [],
      "metadata": {
        "id": "sl7Es-CTF2uT"
      }
    },
    {
      "cell_type": "code",
      "source": [
        "from sklearn.preprocessing import LabelEncoder\n",
        "labelencoder = LabelEncoder()\n",
        "\n",
        "df['diagnosis'] = labelencoder.fit_transform(df['diagnosis'].values)\n",
        "df['diagnosis'].value_counts()"
      ],
      "metadata": {
        "colab": {
          "base_uri": "https://localhost:8080/"
        },
        "id": "rFmpaPbcFYgk",
        "outputId": "2f86a9e4-7a4c-469b-82df-e22e8525c637"
      },
      "execution_count": 4,
      "outputs": [
        {
          "output_type": "execute_result",
          "data": {
            "text/plain": [
              "0    357\n",
              "1    212\n",
              "Name: diagnosis, dtype: int64"
            ]
          },
          "metadata": {},
          "execution_count": 4
        }
      ]
    },
    {
      "cell_type": "code",
      "source": [
        "df.drop(columns=['id'], inplace=True)"
      ],
      "metadata": {
        "id": "rFxVi0xmGFCX"
      },
      "execution_count": 5,
      "outputs": []
    },
    {
      "cell_type": "code",
      "source": [
        "df.corrwith(df['diagnosis']).abs().sort_values(ascending=False)"
      ],
      "metadata": {
        "colab": {
          "base_uri": "https://localhost:8080/"
        },
        "id": "P1W6mw3wGMkl",
        "outputId": "865e10bf-a90c-4255-ac51-7fa8ba9165f2"
      },
      "execution_count": 6,
      "outputs": [
        {
          "output_type": "execute_result",
          "data": {
            "text/plain": [
              "diagnosis                  1.000000\n",
              "concave points_worst       0.793566\n",
              "perimeter_worst            0.782914\n",
              "concave points_mean        0.776614\n",
              "radius_worst               0.776454\n",
              "perimeter_mean             0.742636\n",
              "area_worst                 0.733825\n",
              "radius_mean                0.730029\n",
              "area_mean                  0.708984\n",
              "concavity_mean             0.696360\n",
              "concavity_worst            0.659610\n",
              "compactness_mean           0.596534\n",
              "compactness_worst          0.590998\n",
              "radius_se                  0.567134\n",
              "perimeter_se               0.556141\n",
              "area_se                    0.548236\n",
              "texture_worst              0.456903\n",
              "smoothness_worst           0.421465\n",
              "symmetry_worst             0.416294\n",
              "texture_mean               0.415185\n",
              "concave points_se          0.408042\n",
              "smoothness_mean            0.358560\n",
              "symmetry_mean              0.330499\n",
              "fractal_dimension_worst    0.323872\n",
              "compactness_se             0.292999\n",
              "concavity_se               0.253730\n",
              "fractal_dimension_se       0.077972\n",
              "smoothness_se              0.067016\n",
              "fractal_dimension_mean     0.012838\n",
              "texture_se                 0.008303\n",
              "symmetry_se                0.006522\n",
              "dtype: float64"
            ]
          },
          "metadata": {},
          "execution_count": 6
        }
      ]
    },
    {
      "cell_type": "code",
      "source": [
        "X = df.drop('diagnosis', axis=1).values\n",
        "y = df['diagnosis']"
      ],
      "metadata": {
        "id": "BUHk_Z54GSBf"
      },
      "execution_count": 7,
      "outputs": []
    },
    {
      "cell_type": "code",
      "source": [
        "from sklearn.preprocessing import StandardScaler\n",
        "\n",
        "scaler = StandardScaler()\n",
        "X = scaler.fit_transform(X)"
      ],
      "metadata": {
        "id": "oVcequOjGXft"
      },
      "execution_count": 8,
      "outputs": []
    },
    {
      "cell_type": "code",
      "source": [
        "# Train/test split\n",
        "from sklearn.model_selection import train_test_split\n",
        "\n",
        "X_train, X_test, y_train, y_test = train_test_split(X,y, test_size=0.2, random_state=12)\n",
        "\n",
        "# k-NN\n",
        "from sklearn.neighbors import KNeighborsClassifier\n",
        "knn = KNeighborsClassifier(n_neighbors=5) # k-ni qiymati\n",
        "\n",
        "knn.fit(X_train, y_train)"
      ],
      "metadata": {
        "colab": {
          "base_uri": "https://localhost:8080/",
          "height": 75
        },
        "id": "iTxrCRG2GbkR",
        "outputId": "8dfefd27-67ad-4a6d-af2a-8bb8f1554e01"
      },
      "execution_count": 9,
      "outputs": [
        {
          "output_type": "execute_result",
          "data": {
            "text/plain": [
              "KNeighborsClassifier()"
            ],
            "text/html": [
              "<style>#sk-container-id-1 {color: black;background-color: white;}#sk-container-id-1 pre{padding: 0;}#sk-container-id-1 div.sk-toggleable {background-color: white;}#sk-container-id-1 label.sk-toggleable__label {cursor: pointer;display: block;width: 100%;margin-bottom: 0;padding: 0.3em;box-sizing: border-box;text-align: center;}#sk-container-id-1 label.sk-toggleable__label-arrow:before {content: \"▸\";float: left;margin-right: 0.25em;color: #696969;}#sk-container-id-1 label.sk-toggleable__label-arrow:hover:before {color: black;}#sk-container-id-1 div.sk-estimator:hover label.sk-toggleable__label-arrow:before {color: black;}#sk-container-id-1 div.sk-toggleable__content {max-height: 0;max-width: 0;overflow: hidden;text-align: left;background-color: #f0f8ff;}#sk-container-id-1 div.sk-toggleable__content pre {margin: 0.2em;color: black;border-radius: 0.25em;background-color: #f0f8ff;}#sk-container-id-1 input.sk-toggleable__control:checked~div.sk-toggleable__content {max-height: 200px;max-width: 100%;overflow: auto;}#sk-container-id-1 input.sk-toggleable__control:checked~label.sk-toggleable__label-arrow:before {content: \"▾\";}#sk-container-id-1 div.sk-estimator input.sk-toggleable__control:checked~label.sk-toggleable__label {background-color: #d4ebff;}#sk-container-id-1 div.sk-label input.sk-toggleable__control:checked~label.sk-toggleable__label {background-color: #d4ebff;}#sk-container-id-1 input.sk-hidden--visually {border: 0;clip: rect(1px 1px 1px 1px);clip: rect(1px, 1px, 1px, 1px);height: 1px;margin: -1px;overflow: hidden;padding: 0;position: absolute;width: 1px;}#sk-container-id-1 div.sk-estimator {font-family: monospace;background-color: #f0f8ff;border: 1px dotted black;border-radius: 0.25em;box-sizing: border-box;margin-bottom: 0.5em;}#sk-container-id-1 div.sk-estimator:hover {background-color: #d4ebff;}#sk-container-id-1 div.sk-parallel-item::after {content: \"\";width: 100%;border-bottom: 1px solid gray;flex-grow: 1;}#sk-container-id-1 div.sk-label:hover label.sk-toggleable__label {background-color: #d4ebff;}#sk-container-id-1 div.sk-serial::before {content: \"\";position: absolute;border-left: 1px solid gray;box-sizing: border-box;top: 0;bottom: 0;left: 50%;z-index: 0;}#sk-container-id-1 div.sk-serial {display: flex;flex-direction: column;align-items: center;background-color: white;padding-right: 0.2em;padding-left: 0.2em;position: relative;}#sk-container-id-1 div.sk-item {position: relative;z-index: 1;}#sk-container-id-1 div.sk-parallel {display: flex;align-items: stretch;justify-content: center;background-color: white;position: relative;}#sk-container-id-1 div.sk-item::before, #sk-container-id-1 div.sk-parallel-item::before {content: \"\";position: absolute;border-left: 1px solid gray;box-sizing: border-box;top: 0;bottom: 0;left: 50%;z-index: -1;}#sk-container-id-1 div.sk-parallel-item {display: flex;flex-direction: column;z-index: 1;position: relative;background-color: white;}#sk-container-id-1 div.sk-parallel-item:first-child::after {align-self: flex-end;width: 50%;}#sk-container-id-1 div.sk-parallel-item:last-child::after {align-self: flex-start;width: 50%;}#sk-container-id-1 div.sk-parallel-item:only-child::after {width: 0;}#sk-container-id-1 div.sk-dashed-wrapped {border: 1px dashed gray;margin: 0 0.4em 0.5em 0.4em;box-sizing: border-box;padding-bottom: 0.4em;background-color: white;}#sk-container-id-1 div.sk-label label {font-family: monospace;font-weight: bold;display: inline-block;line-height: 1.2em;}#sk-container-id-1 div.sk-label-container {text-align: center;}#sk-container-id-1 div.sk-container {/* jupyter's `normalize.less` sets `[hidden] { display: none; }` but bootstrap.min.css set `[hidden] { display: none !important; }` so we also need the `!important` here to be able to override the default hidden behavior on the sphinx rendered scikit-learn.org. See: https://github.com/scikit-learn/scikit-learn/issues/21755 */display: inline-block !important;position: relative;}#sk-container-id-1 div.sk-text-repr-fallback {display: none;}</style><div id=\"sk-container-id-1\" class=\"sk-top-container\"><div class=\"sk-text-repr-fallback\"><pre>KNeighborsClassifier()</pre><b>In a Jupyter environment, please rerun this cell to show the HTML representation or trust the notebook. <br />On GitHub, the HTML representation is unable to render, please try loading this page with nbviewer.org.</b></div><div class=\"sk-container\" hidden><div class=\"sk-item\"><div class=\"sk-estimator sk-toggleable\"><input class=\"sk-toggleable__control sk-hidden--visually\" id=\"sk-estimator-id-1\" type=\"checkbox\" checked><label for=\"sk-estimator-id-1\" class=\"sk-toggleable__label sk-toggleable__label-arrow\">KNeighborsClassifier</label><div class=\"sk-toggleable__content\"><pre>KNeighborsClassifier()</pre></div></div></div></div></div>"
            ]
          },
          "metadata": {},
          "execution_count": 9
        }
      ]
    },
    {
      "cell_type": "code",
      "source": [
        "y_predict = knn.predict(X_test)"
      ],
      "metadata": {
        "id": "beoCiGk_Gh2I"
      },
      "execution_count": 10,
      "outputs": []
    },
    {
      "cell_type": "code",
      "source": [
        "from sklearn.metrics import jaccard_score\n",
        "\n",
        "jaccard_score(y_test, y_predict)"
      ],
      "metadata": {
        "colab": {
          "base_uri": "https://localhost:8080/"
        },
        "id": "W6WOv8NjGpxH",
        "outputId": "e39309d7-df7c-4f6d-b485-fa3af689af74"
      },
      "execution_count": 11,
      "outputs": [
        {
          "output_type": "execute_result",
          "data": {
            "text/plain": [
              "0.8958333333333334"
            ]
          },
          "metadata": {},
          "execution_count": 11
        }
      ]
    },
    {
      "cell_type": "code",
      "source": [
        "from sklearn.metrics import confusion_matrix\n",
        "confusion_matrix(y_test, y_predict)"
      ],
      "metadata": {
        "colab": {
          "base_uri": "https://localhost:8080/"
        },
        "id": "TdgwUXbjGt3o",
        "outputId": "0f951b45-56cd-4ab4-b11c-226c171f1d1c"
      },
      "execution_count": 12,
      "outputs": [
        {
          "output_type": "execute_result",
          "data": {
            "text/plain": [
              "array([[66,  0],\n",
              "       [ 5, 43]])"
            ]
          },
          "metadata": {},
          "execution_count": 12
        }
      ]
    },
    {
      "cell_type": "code",
      "source": [
        "from sklearn.metrics import classification_report\n",
        "print(classification_report(y_test, y_predict))"
      ],
      "metadata": {
        "colab": {
          "base_uri": "https://localhost:8080/"
        },
        "id": "YlYE-AMtGxIq",
        "outputId": "1c445487-78fd-4e36-929d-10cbb9e44506"
      },
      "execution_count": 13,
      "outputs": [
        {
          "output_type": "stream",
          "name": "stdout",
          "text": [
            "              precision    recall  f1-score   support\n",
            "\n",
            "           0       0.93      1.00      0.96        66\n",
            "           1       1.00      0.90      0.95        48\n",
            "\n",
            "    accuracy                           0.96       114\n",
            "   macro avg       0.96      0.95      0.95       114\n",
            "weighted avg       0.96      0.96      0.96       114\n",
            "\n"
          ]
        }
      ]
    },
    {
      "cell_type": "markdown",
      "source": [
        "**lets find out the most accurate 'k'**"
      ],
      "metadata": {
        "id": "2QsOTttiG9BE"
      }
    },
    {
      "cell_type": "code",
      "source": [
        "import matplotlib.pyplot as plt\n",
        "from sklearn.neighbors import KNeighborsClassifier\n",
        "from sklearn.metrics import jaccard_score\n",
        "\n",
        "f1 = []\n",
        "for k in range(1, 25):\n",
        "    knn = KNeighborsClassifier(n_neighbors=k) # k-ni qiymati\n",
        "    knn.fit(X_train, y_train)\n",
        "    y_predict = knn.predict(X_test)\n",
        "    f1.append(jaccard_score(y_test, y_predict))\n",
        "\n",
        "plt.figure(figsize=(10, 6))\n",
        "plt.plot(range(1, 25), f1)\n",
        "plt.xticks(range(1, 25))\n",
        "plt.grid()\n",
        "plt.show()"
      ],
      "metadata": {
        "colab": {
          "base_uri": "https://localhost:8080/",
          "height": 522
        },
        "id": "qnw9kmIsG1x2",
        "outputId": "3aa6a62e-6cfc-403c-ab16-a4f4cfd70aa1"
      },
      "execution_count": 15,
      "outputs": [
        {
          "output_type": "display_data",
          "data": {
            "text/plain": [
              "<Figure size 1000x600 with 1 Axes>"
            ],
            "image/png": "[encoded data removed]"
          },
          "metadata": {}
        }
      ]
    },
    {
      "cell_type": "code",
      "source": [],
      "metadata": {
        "id": "bhmtJM1rHDIX"
      },
      "execution_count": null,
      "outputs": []
    }
  ]
}